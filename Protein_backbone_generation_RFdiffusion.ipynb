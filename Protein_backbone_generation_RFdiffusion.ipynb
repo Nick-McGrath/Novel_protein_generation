{
  "nbformat": 4,
  "nbformat_minor": 0,
  "metadata": {
    "colab": {
      "provenance": [],
      "authorship_tag": "ABX9TyPLsG5aJKY50nEEElsElx50",
      "include_colab_link": true
    },
    "kernelspec": {
      "name": "python3",
      "display_name": "Python 3"
    },
    "language_info": {
      "name": "python"
    }
  },
  "cells": [
    {
      "cell_type": "markdown",
      "metadata": {
        "id": "view-in-github",
        "colab_type": "text"
      },
      "source": [
        "<a href=\"https://colab.research.google.com/github/Nick-McGrath/Novel_protein_generation/blob/main/Protein_backbone_generation_RFdiffusion.ipynb\" target=\"_parent\"><img src=\"https://colab.research.google.com/assets/colab-badge.svg\" alt=\"Open In Colab\"/></a>"
      ]
    },
    {
      "cell_type": "markdown",
      "source": [
        "Generate protein backbones with RFdiffusion\n",
        "- Clone Github RFD respoitory\n",
        "- Explore possible changeable parameters\n",
        "- Test limits and google colab processing power (50->100->1000->10,000 backbones at once)\n"
      ],
      "metadata": {
        "id": "gaR3ZpqX5033"
      }
    },
    {
      "cell_type": "markdown",
      "source": [
        "remove any old files from previous runs"
      ],
      "metadata": {
        "id": "7lHMTG_L1XSL"
      }
    },
    {
      "cell_type": "code",
      "source": [
        "!rm -rf RFdiffusion"
      ],
      "metadata": {
        "id": "3mjZyZxGPvGc"
      },
      "execution_count": 1,
      "outputs": []
    },
    {
      "cell_type": "markdown",
      "source": [
        "Clone from github"
      ],
      "metadata": {
        "id": "3d5ZNz9b1Tjh"
      }
    },
    {
      "cell_type": "code",
      "source": [
        "#Install dependencies and clone repo\n",
        "!pip install -q dm-haiku ml-collections py3Dmol biopython einops optax icecream omegaconf hydra-core\n",
        "\n",
        "!git clone https://github.com/RosettaCommons/RFdiffusion.git\n",
        "%cd RFdiffusion\n"
      ],
      "metadata": {
        "colab": {
          "base_uri": "https://localhost:8080/"
        },
        "id": "EvhB0DUv1JCp",
        "outputId": "47f15894-3d86-4cff-816f-0470bd2383de"
      },
      "execution_count": 2,
      "outputs": [
        {
          "output_type": "stream",
          "name": "stdout",
          "text": [
            "\u001b[33mDEPRECATION: Loading egg at /usr/local/lib/python3.11/dist-packages/rfdiffusion-1.1.0-py3.11.egg is deprecated. pip 24.3 will enforce this behaviour change. A possible replacement is to use pip for package installation. Discussion can be found at https://github.com/pypa/pip/issues/12330\u001b[0m\u001b[33m\n",
            "\u001b[0mCloning into 'RFdiffusion'...\n",
            "remote: Enumerating objects: 471, done.\u001b[K\n",
            "remote: Counting objects: 100% (321/321), done.\u001b[K\n",
            "remote: Compressing objects: 100% (163/163), done.\u001b[K\n",
            "remote: Total 471 (delta 208), reused 158 (delta 158), pack-reused 150 (from 1)\u001b[K\n",
            "Receiving objects: 100% (471/471), 7.86 MiB | 26.65 MiB/s, done.\n",
            "Resolving deltas: 100% (234/234), done.\n",
            "/content/RFdiffusion\n"
          ]
        }
      ]
    },
    {
      "cell_type": "code",
      "source": [
        "# Manually copy SE3Transformer to the repo so it can be imported\n",
        "!cp -r /content/RFdiffusion/env/SE3Transformer/ RFdiffusion/"
      ],
      "metadata": {
        "id": "HeDXfk371y3r"
      },
      "execution_count": 7,
      "outputs": []
    },
    {
      "cell_type": "code",
      "source": [
        "import sys\n",
        "sys.path.append('/content/RFdiffusion')\n"
      ],
      "metadata": {
        "id": "LPsCcDL42cEL"
      },
      "execution_count": 8,
      "outputs": []
    },
    {
      "cell_type": "code",
      "source": [
        "!pip install -e RFdiffusion"
      ],
      "metadata": {
        "colab": {
          "base_uri": "https://localhost:8080/"
        },
        "id": "2RKDkjbf2gir",
        "outputId": "c33d90e6-fb71-464d-8d4e-d718837153df"
      },
      "execution_count": 9,
      "outputs": [
        {
          "output_type": "stream",
          "name": "stdout",
          "text": [
            "\u001b[33mDEPRECATION: Loading egg at /usr/local/lib/python3.11/dist-packages/rfdiffusion-1.1.0-py3.11.egg is deprecated. pip 24.3 will enforce this behaviour change. A possible replacement is to use pip for package installation. Discussion can be found at https://github.com/pypa/pip/issues/12330\u001b[0m\u001b[33m\n",
            "\u001b[0mObtaining file:///content/RFdiffusion/RFdiffusion\n",
            "  Preparing metadata (setup.py) ... \u001b[?25l\u001b[?25hdone\n",
            "Installing collected packages: se3-transformer\n",
            "  Running setup.py develop for se3-transformer\n",
            "Successfully installed se3-transformer-1.0.0\n"
          ]
        }
      ]
    },
    {
      "cell_type": "code",
      "source": [
        "!pip install --force-reinstall dgl -f https://data.dgl.ai/wheels/repo.html\n",
        "\n"
      ],
      "metadata": {
        "collapsed": true,
        "id": "09xC8f3g50Ke"
      },
      "execution_count": null,
      "outputs": []
    },
    {
      "cell_type": "code",
      "source": [
        "!pip install torchdata==0.6.1\n",
        "\n"
      ],
      "metadata": {
        "colab": {
          "base_uri": "https://localhost:8080/"
        },
        "collapsed": true,
        "id": "jzfxNd046lR8",
        "outputId": "cdbc83b4-5c06-43da-f2fb-593541787eb2"
      },
      "execution_count": 2,
      "outputs": [
        {
          "output_type": "stream",
          "name": "stdout",
          "text": [
            "\u001b[33mDEPRECATION: Loading egg at /usr/local/lib/python3.11/dist-packages/rfdiffusion-1.1.0-py3.11.egg is deprecated. pip 24.3 will enforce this behaviour change. A possible replacement is to use pip for package installation. Discussion can be found at https://github.com/pypa/pip/issues/12330\u001b[0m\u001b[33m\n",
            "\u001b[0mCollecting torchdata==0.6.1\n",
            "  Using cached torchdata-0.6.1-cp311-cp311-manylinux_2_17_x86_64.manylinux2014_x86_64.whl.metadata (13 kB)\n",
            "Requirement already satisfied: urllib3>=1.25 in /usr/local/lib/python3.11/dist-packages (from torchdata==0.6.1) (2.3.0)\n",
            "Requirement already satisfied: requests in /usr/local/lib/python3.11/dist-packages (from torchdata==0.6.1) (2.32.3)\n",
            "Collecting torch==2.0.1 (from torchdata==0.6.1)\n",
            "  Using cached torch-2.0.1-cp311-cp311-manylinux1_x86_64.whl.metadata (24 kB)\n",
            "Requirement already satisfied: filelock in /usr/local/lib/python3.11/dist-packages (from torch==2.0.1->torchdata==0.6.1) (3.18.0)\n",
            "Requirement already satisfied: typing-extensions in /usr/local/lib/python3.11/dist-packages (from torch==2.0.1->torchdata==0.6.1) (4.13.1)\n",
            "Requirement already satisfied: sympy in /usr/local/lib/python3.11/dist-packages (from torch==2.0.1->torchdata==0.6.1) (1.13.1)\n",
            "Requirement already satisfied: networkx in /usr/local/lib/python3.11/dist-packages (from torch==2.0.1->torchdata==0.6.1) (3.4.2)\n",
            "Requirement already satisfied: jinja2 in /usr/local/lib/python3.11/dist-packages (from torch==2.0.1->torchdata==0.6.1) (3.1.6)\n",
            "Requirement already satisfied: nvidia-cuda-nvrtc-cu11==11.7.99 in /usr/local/lib/python3.11/dist-packages (from torch==2.0.1->torchdata==0.6.1) (11.7.99)\n",
            "Requirement already satisfied: nvidia-cuda-runtime-cu11==11.7.99 in /usr/local/lib/python3.11/dist-packages (from torch==2.0.1->torchdata==0.6.1) (11.7.99)\n",
            "Requirement already satisfied: nvidia-cuda-cupti-cu11==11.7.101 in /usr/local/lib/python3.11/dist-packages (from torch==2.0.1->torchdata==0.6.1) (11.7.101)\n",
            "Requirement already satisfied: nvidia-cudnn-cu11==8.5.0.96 in /usr/local/lib/python3.11/dist-packages (from torch==2.0.1->torchdata==0.6.1) (8.5.0.96)\n",
            "Requirement already satisfied: nvidia-cublas-cu11==11.10.3.66 in /usr/local/lib/python3.11/dist-packages (from torch==2.0.1->torchdata==0.6.1) (11.10.3.66)\n",
            "Requirement already satisfied: nvidia-cufft-cu11==10.9.0.58 in /usr/local/lib/python3.11/dist-packages (from torch==2.0.1->torchdata==0.6.1) (10.9.0.58)\n",
            "Requirement already satisfied: nvidia-curand-cu11==10.2.10.91 in /usr/local/lib/python3.11/dist-packages (from torch==2.0.1->torchdata==0.6.1) (10.2.10.91)\n",
            "Requirement already satisfied: nvidia-cusolver-cu11==11.4.0.1 in /usr/local/lib/python3.11/dist-packages (from torch==2.0.1->torchdata==0.6.1) (11.4.0.1)\n",
            "Requirement already satisfied: nvidia-cusparse-cu11==11.7.4.91 in /usr/local/lib/python3.11/dist-packages (from torch==2.0.1->torchdata==0.6.1) (11.7.4.91)\n",
            "Requirement already satisfied: nvidia-nccl-cu11==2.14.3 in /usr/local/lib/python3.11/dist-packages (from torch==2.0.1->torchdata==0.6.1) (2.14.3)\n",
            "Requirement already satisfied: nvidia-nvtx-cu11==11.7.91 in /usr/local/lib/python3.11/dist-packages (from torch==2.0.1->torchdata==0.6.1) (11.7.91)\n",
            "Collecting triton==2.0.0 (from torch==2.0.1->torchdata==0.6.1)\n",
            "  Using cached triton-2.0.0-1-cp311-cp311-manylinux2014_x86_64.manylinux_2_17_x86_64.whl.metadata (1.0 kB)\n",
            "Requirement already satisfied: setuptools in /usr/local/lib/python3.11/dist-packages (from nvidia-cublas-cu11==11.10.3.66->torch==2.0.1->torchdata==0.6.1) (75.2.0)\n",
            "Requirement already satisfied: wheel in /usr/local/lib/python3.11/dist-packages (from nvidia-cublas-cu11==11.10.3.66->torch==2.0.1->torchdata==0.6.1) (0.45.1)\n",
            "Requirement already satisfied: cmake in /usr/local/lib/python3.11/dist-packages (from triton==2.0.0->torch==2.0.1->torchdata==0.6.1) (3.31.6)\n",
            "Requirement already satisfied: lit in /usr/local/lib/python3.11/dist-packages (from triton==2.0.0->torch==2.0.1->torchdata==0.6.1) (18.1.8)\n",
            "Requirement already satisfied: charset-normalizer<4,>=2 in /usr/local/lib/python3.11/dist-packages (from requests->torchdata==0.6.1) (3.4.1)\n",
            "Requirement already satisfied: idna<4,>=2.5 in /usr/local/lib/python3.11/dist-packages (from requests->torchdata==0.6.1) (3.10)\n",
            "Requirement already satisfied: certifi>=2017.4.17 in /usr/local/lib/python3.11/dist-packages (from requests->torchdata==0.6.1) (2025.1.31)\n",
            "Requirement already satisfied: MarkupSafe>=2.0 in /usr/local/lib/python3.11/dist-packages (from jinja2->torch==2.0.1->torchdata==0.6.1) (3.0.2)\n",
            "Requirement already satisfied: mpmath<1.4,>=1.1.0 in /usr/local/lib/python3.11/dist-packages (from sympy->torch==2.0.1->torchdata==0.6.1) (1.3.0)\n",
            "Using cached torchdata-0.6.1-cp311-cp311-manylinux_2_17_x86_64.manylinux2014_x86_64.whl (4.6 MB)\n",
            "Using cached torch-2.0.1-cp311-cp311-manylinux1_x86_64.whl (619.9 MB)\n",
            "Using cached triton-2.0.0-1-cp311-cp311-manylinux2014_x86_64.manylinux_2_17_x86_64.whl (63.3 MB)\n",
            "Installing collected packages: triton, torch, torchdata\n",
            "  Attempting uninstall: triton\n",
            "    Found existing installation: triton 3.2.0\n",
            "    Uninstalling triton-3.2.0:\n",
            "      Successfully uninstalled triton-3.2.0\n",
            "  Attempting uninstall: torch\n",
            "    Found existing installation: torch 2.6.0\n",
            "    Uninstalling torch-2.6.0:\n",
            "      Successfully uninstalled torch-2.6.0\n",
            "  Attempting uninstall: torchdata\n",
            "    Found existing installation: torchdata 0.11.0\n",
            "    Uninstalling torchdata-0.11.0:\n",
            "      Successfully uninstalled torchdata-0.11.0\n",
            "\u001b[31mERROR: pip's dependency resolver does not currently take into account all the packages that are installed. This behaviour is the source of the following dependency conflicts.\n",
            "torchaudio 2.6.0+cu124 requires torch==2.6.0, but you have torch 2.0.1 which is incompatible.\n",
            "torchvision 0.21.0+cu124 requires torch==2.6.0, but you have torch 2.0.1 which is incompatible.\u001b[0m\u001b[31m\n",
            "\u001b[0mSuccessfully installed torch-2.0.1 torchdata-0.6.1 triton-2.0.0\n"
          ]
        }
      ]
    },
    {
      "cell_type": "code",
      "source": [
        "!pip install numpy==1.24.4 --force-reinstall\n"
      ],
      "metadata": {
        "colab": {
          "base_uri": "https://localhost:8080/",
          "height": 464
        },
        "id": "9uiCi13L9lb_",
        "outputId": "dcae44f8-13f7-4a2c-8eb0-3c28c6790e86"
      },
      "execution_count": 4,
      "outputs": [
        {
          "output_type": "stream",
          "name": "stdout",
          "text": [
            "\u001b[33mDEPRECATION: Loading egg at /usr/local/lib/python3.11/dist-packages/rfdiffusion-1.1.0-py3.11.egg is deprecated. pip 24.3 will enforce this behaviour change. A possible replacement is to use pip for package installation. Discussion can be found at https://github.com/pypa/pip/issues/12330\u001b[0m\u001b[33m\n",
            "\u001b[0mCollecting numpy==1.24.4\n",
            "  Downloading numpy-1.24.4-cp311-cp311-manylinux_2_17_x86_64.manylinux2014_x86_64.whl.metadata (5.6 kB)\n",
            "Downloading numpy-1.24.4-cp311-cp311-manylinux_2_17_x86_64.manylinux2014_x86_64.whl (17.3 MB)\n",
            "\u001b[2K   \u001b[90m━━━━━━━━━━━━━━━━━━━━━━━━━━━━━━━━━━━━━━━━\u001b[0m \u001b[32m17.3/17.3 MB\u001b[0m \u001b[31m71.6 MB/s\u001b[0m eta \u001b[36m0:00:00\u001b[0m\n",
            "\u001b[?25hInstalling collected packages: numpy\n",
            "  Attempting uninstall: numpy\n",
            "    Found existing installation: numpy 2.2.4\n",
            "    Uninstalling numpy-2.2.4:\n",
            "      Successfully uninstalled numpy-2.2.4\n",
            "\u001b[31mERROR: pip's dependency resolver does not currently take into account all the packages that are installed. This behaviour is the source of the following dependency conflicts.\n",
            "pymc 5.21.2 requires numpy>=1.25.0, but you have numpy 1.24.4 which is incompatible.\n",
            "jaxlib 0.5.1 requires numpy>=1.25, but you have numpy 1.24.4 which is incompatible.\n",
            "blosc2 3.2.1 requires numpy>=1.26, but you have numpy 1.24.4 which is incompatible.\n",
            "treescope 0.1.9 requires numpy>=1.25.2, but you have numpy 1.24.4 which is incompatible.\n",
            "jax 0.5.2 requires numpy>=1.25, but you have numpy 1.24.4 which is incompatible.\n",
            "torchvision 0.21.0+cu124 requires torch==2.6.0, but you have torch 2.0.1 which is incompatible.\n",
            "tensorflow 2.18.0 requires numpy<2.1.0,>=1.26.0, but you have numpy 1.24.4 which is incompatible.\u001b[0m\u001b[31m\n",
            "\u001b[0mSuccessfully installed numpy-1.24.4\n"
          ]
        },
        {
          "output_type": "display_data",
          "data": {
            "application/vnd.colab-display-data+json": {
              "pip_warning": {
                "packages": [
                  "numpy"
                ]
              },
              "id": "d34c22067c7445e7b07b1fe78f96314b"
            }
          },
          "metadata": {}
        }
      ]
    },
    {
      "cell_type": "code",
      "source": [
        "!pip install e3nn==0.5.1\n"
      ],
      "metadata": {
        "colab": {
          "base_uri": "https://localhost:8080/"
        },
        "id": "xXe32vAV9vF0",
        "outputId": "3ec6b8ee-a714-405d-e5f5-711d8a96da17"
      },
      "execution_count": 1,
      "outputs": [
        {
          "output_type": "stream",
          "name": "stdout",
          "text": [
            "\u001b[33mDEPRECATION: Loading egg at /usr/local/lib/python3.11/dist-packages/rfdiffusion-1.1.0-py3.11.egg is deprecated. pip 24.3 will enforce this behaviour change. A possible replacement is to use pip for package installation. Discussion can be found at https://github.com/pypa/pip/issues/12330\u001b[0m\u001b[33m\n",
            "\u001b[0mCollecting e3nn==0.5.1\n",
            "  Downloading e3nn-0.5.1-py3-none-any.whl.metadata (5.7 kB)\n",
            "Requirement already satisfied: sympy in /usr/local/lib/python3.11/dist-packages (from e3nn==0.5.1) (1.13.1)\n",
            "Requirement already satisfied: scipy in /usr/local/lib/python3.11/dist-packages (from e3nn==0.5.1) (1.15.2)\n",
            "Requirement already satisfied: torch>=1.8.0 in /usr/local/lib/python3.11/dist-packages (from e3nn==0.5.1) (2.0.1)\n",
            "Collecting opt-einsum-fx>=0.1.4 (from e3nn==0.5.1)\n",
            "  Downloading opt_einsum_fx-0.1.4-py3-none-any.whl.metadata (3.3 kB)\n",
            "Requirement already satisfied: opt-einsum in /usr/local/lib/python3.11/dist-packages (from opt-einsum-fx>=0.1.4->e3nn==0.5.1) (3.4.0)\n",
            "Requirement already satisfied: packaging in /usr/local/lib/python3.11/dist-packages (from opt-einsum-fx>=0.1.4->e3nn==0.5.1) (24.2)\n",
            "Requirement already satisfied: filelock in /usr/local/lib/python3.11/dist-packages (from torch>=1.8.0->e3nn==0.5.1) (3.18.0)\n",
            "Requirement already satisfied: typing-extensions in /usr/local/lib/python3.11/dist-packages (from torch>=1.8.0->e3nn==0.5.1) (4.13.1)\n",
            "Requirement already satisfied: networkx in /usr/local/lib/python3.11/dist-packages (from torch>=1.8.0->e3nn==0.5.1) (3.4.2)\n",
            "Requirement already satisfied: jinja2 in /usr/local/lib/python3.11/dist-packages (from torch>=1.8.0->e3nn==0.5.1) (3.1.6)\n",
            "Requirement already satisfied: nvidia-cuda-nvrtc-cu11==11.7.99 in /usr/local/lib/python3.11/dist-packages (from torch>=1.8.0->e3nn==0.5.1) (11.7.99)\n",
            "Requirement already satisfied: nvidia-cuda-runtime-cu11==11.7.99 in /usr/local/lib/python3.11/dist-packages (from torch>=1.8.0->e3nn==0.5.1) (11.7.99)\n",
            "Requirement already satisfied: nvidia-cuda-cupti-cu11==11.7.101 in /usr/local/lib/python3.11/dist-packages (from torch>=1.8.0->e3nn==0.5.1) (11.7.101)\n",
            "Requirement already satisfied: nvidia-cudnn-cu11==8.5.0.96 in /usr/local/lib/python3.11/dist-packages (from torch>=1.8.0->e3nn==0.5.1) (8.5.0.96)\n",
            "Requirement already satisfied: nvidia-cublas-cu11==11.10.3.66 in /usr/local/lib/python3.11/dist-packages (from torch>=1.8.0->e3nn==0.5.1) (11.10.3.66)\n",
            "Requirement already satisfied: nvidia-cufft-cu11==10.9.0.58 in /usr/local/lib/python3.11/dist-packages (from torch>=1.8.0->e3nn==0.5.1) (10.9.0.58)\n",
            "Requirement already satisfied: nvidia-curand-cu11==10.2.10.91 in /usr/local/lib/python3.11/dist-packages (from torch>=1.8.0->e3nn==0.5.1) (10.2.10.91)\n",
            "Requirement already satisfied: nvidia-cusolver-cu11==11.4.0.1 in /usr/local/lib/python3.11/dist-packages (from torch>=1.8.0->e3nn==0.5.1) (11.4.0.1)\n",
            "Requirement already satisfied: nvidia-cusparse-cu11==11.7.4.91 in /usr/local/lib/python3.11/dist-packages (from torch>=1.8.0->e3nn==0.5.1) (11.7.4.91)\n",
            "Requirement already satisfied: nvidia-nccl-cu11==2.14.3 in /usr/local/lib/python3.11/dist-packages (from torch>=1.8.0->e3nn==0.5.1) (2.14.3)\n",
            "Requirement already satisfied: nvidia-nvtx-cu11==11.7.91 in /usr/local/lib/python3.11/dist-packages (from torch>=1.8.0->e3nn==0.5.1) (11.7.91)\n",
            "Requirement already satisfied: triton==2.0.0 in /usr/local/lib/python3.11/dist-packages (from torch>=1.8.0->e3nn==0.5.1) (2.0.0)\n",
            "Requirement already satisfied: setuptools in /usr/local/lib/python3.11/dist-packages (from nvidia-cublas-cu11==11.10.3.66->torch>=1.8.0->e3nn==0.5.1) (75.2.0)\n",
            "Requirement already satisfied: wheel in /usr/local/lib/python3.11/dist-packages (from nvidia-cublas-cu11==11.10.3.66->torch>=1.8.0->e3nn==0.5.1) (0.45.1)\n",
            "Requirement already satisfied: cmake in /usr/local/lib/python3.11/dist-packages (from triton==2.0.0->torch>=1.8.0->e3nn==0.5.1) (3.31.6)\n",
            "Requirement already satisfied: lit in /usr/local/lib/python3.11/dist-packages (from triton==2.0.0->torch>=1.8.0->e3nn==0.5.1) (18.1.8)\n",
            "Requirement already satisfied: numpy<2.5,>=1.23.5 in /usr/local/lib/python3.11/dist-packages (from scipy->e3nn==0.5.1) (1.24.4)\n",
            "Requirement already satisfied: mpmath<1.4,>=1.1.0 in /usr/local/lib/python3.11/dist-packages (from sympy->e3nn==0.5.1) (1.3.0)\n",
            "Requirement already satisfied: MarkupSafe>=2.0 in /usr/local/lib/python3.11/dist-packages (from jinja2->torch>=1.8.0->e3nn==0.5.1) (3.0.2)\n",
            "Downloading e3nn-0.5.1-py3-none-any.whl (118 kB)\n",
            "\u001b[2K   \u001b[90m━━━━━━━━━━━━━━━━━━━━━━━━━━━━━━━━━━━━━━━━\u001b[0m \u001b[32m118.9/118.9 kB\u001b[0m \u001b[31m2.3 MB/s\u001b[0m eta \u001b[36m0:00:00\u001b[0m\n",
            "\u001b[?25hDownloading opt_einsum_fx-0.1.4-py3-none-any.whl (13 kB)\n",
            "Installing collected packages: opt-einsum-fx, e3nn\n",
            "Successfully installed e3nn-0.5.1 opt-einsum-fx-0.1.4\n"
          ]
        }
      ]
    },
    {
      "cell_type": "code",
      "source": [
        "!pip install pyrsistent\n",
        "!pip check"
      ],
      "metadata": {
        "colab": {
          "base_uri": "https://localhost:8080/"
        },
        "id": "kGBAzYGt-GOu",
        "outputId": "666e6d0c-ea5d-490e-ad4c-967289341af6"
      },
      "execution_count": 3,
      "outputs": [
        {
          "output_type": "stream",
          "name": "stdout",
          "text": [
            "\u001b[33mDEPRECATION: Loading egg at /usr/local/lib/python3.11/dist-packages/rfdiffusion-1.1.0-py3.11.egg is deprecated. pip 24.3 will enforce this behaviour change. A possible replacement is to use pip for package installation. Discussion can be found at https://github.com/pypa/pip/issues/12330\u001b[0m\u001b[33m\n",
            "\u001b[0mCollecting pyrsistent\n",
            "  Downloading pyrsistent-0.20.0-cp311-cp311-manylinux_2_17_x86_64.manylinux2014_x86_64.whl.metadata (27 kB)\n",
            "Downloading pyrsistent-0.20.0-cp311-cp311-manylinux_2_17_x86_64.manylinux2014_x86_64.whl (120 kB)\n",
            "\u001b[2K   \u001b[90m━━━━━━━━━━━━━━━━━━━━━━━━━━━━━━━━━━━━━━━━\u001b[0m \u001b[32m120.0/120.0 kB\u001b[0m \u001b[31m3.0 MB/s\u001b[0m eta \u001b[36m0:00:00\u001b[0m\n",
            "\u001b[?25hInstalling collected packages: pyrsistent\n",
            "Successfully installed pyrsistent-0.20.0\n",
            "\u001b[33mDEPRECATION: Loading egg at /usr/local/lib/python3.11/dist-packages/rfdiffusion-1.1.0-py3.11.egg is deprecated. pip 24.3 will enforce this behaviour change. A possible replacement is to use pip for package installation. Discussion can be found at https://github.com/pypa/pip/issues/12330\u001b[0m\u001b[33m\n",
            "\u001b[0mipython 7.34.0 requires jedi, which is not installed.\n",
            "pymc 5.21.2 has requirement numpy>=1.25.0, but you have numpy 1.24.4.\n",
            "torchaudio 2.6.0+cu124 has requirement torch==2.6.0, but you have torch 2.0.1.\n",
            "jaxlib 0.5.1 has requirement numpy>=1.25, but you have numpy 1.24.4.\n",
            "blosc2 3.2.1 has requirement numpy>=1.26, but you have numpy 1.24.4.\n",
            "treescope 0.1.9 has requirement numpy>=1.25.2, but you have numpy 1.24.4.\n",
            "jax 0.5.2 has requirement numpy>=1.25, but you have numpy 1.24.4.\n",
            "torchvision 0.21.0+cu124 has requirement torch==2.6.0, but you have torch 2.0.1.\n",
            "tensorflow 2.18.0 has requirement numpy<2.1.0,>=1.26.0, but you have numpy 1.24.4.\n"
          ]
        }
      ]
    },
    {
      "cell_type": "markdown",
      "source": [
        "Install weights"
      ],
      "metadata": {
        "id": "kas3U6T57mf3"
      }
    },
    {
      "cell_type": "code",
      "source": [
        "#Download model weights\n",
        "%cd RFdiffusion\n",
        "!mkdir models && cd models\n",
        "!wget http://files.ipd.uw.edu/pub/RFdiffusion/6f5902ac237024bdd0c176cb93063dc4/Base_ckpt.pt\n",
        "!wget http://files.ipd.uw.edu/pub/RFdiffusion/e29311f6f1bf1af907f9ef9f44b8328b/Complex_base_ckpt.pt\n",
        "!wget http://files.ipd.uw.edu/pub/RFdiffusion/60f09a193fb5e5ccdc4980417708dbab/Complex_Fold_base_ckpt.pt\n",
        "!wget http://files.ipd.uw.edu/pub/RFdiffusion/74f51cfb8b440f50d70878e05361d8f0/InpaintSeq_ckpt.pt\n",
        "!wget http://files.ipd.uw.edu/pub/RFdiffusion/76d00716416567174cdb7ca96e208296/InpaintSeq_Fold_ckpt.pt\n",
        "!wget http://files.ipd.uw.edu/pub/RFdiffusion/5532d2e1f3a4738decd58b19d633b3c3/ActiveSite_ckpt.pt\n",
        "!wget http://files.ipd.uw.edu/pub/RFdiffusion/12fc204edeae5b57713c5ad7dcb97d39/Base_epoch8_ckpt.pt\n",
        "!wget http://files.ipd.uw.edu/pub/RFdiffusion/f572d396fae9206628714fb2ce00f72e/Complex_beta_ckpt.pt"
      ],
      "metadata": {
        "colab": {
          "base_uri": "https://localhost:8080/"
        },
        "collapsed": true,
        "id": "GQJ6wQJV_3XW",
        "outputId": "af179612-2c7b-4236-abbe-081bea654ad8"
      },
      "execution_count": 10,
      "outputs": [
        {
          "output_type": "stream",
          "name": "stdout",
          "text": [
            "/content/RFdiffusion/RFdiffusion\n",
            "--2025-04-09 00:01:57--  http://files.ipd.uw.edu/pub/RFdiffusion/6f5902ac237024bdd0c176cb93063dc4/Base_ckpt.pt\n",
            "Resolving files.ipd.uw.edu (files.ipd.uw.edu)... 128.95.160.134, 128.95.160.135, 2607:4000:406::160:134, ...\n",
            "Connecting to files.ipd.uw.edu (files.ipd.uw.edu)|128.95.160.134|:80... connected.\n",
            "HTTP request sent, awaiting response... 200 OK\n",
            "Length: 483616107 (461M) [application/octet-stream]\n",
            "Saving to: ‘Base_ckpt.pt’\n",
            "\n",
            "Base_ckpt.pt        100%[===================>] 461.21M  16.0MB/s    in 50s     \n",
            "\n",
            "2025-04-09 00:02:48 (9.24 MB/s) - ‘Base_ckpt.pt’ saved [483616107/483616107]\n",
            "\n",
            "--2025-04-09 00:02:48--  http://files.ipd.uw.edu/pub/RFdiffusion/e29311f6f1bf1af907f9ef9f44b8328b/Complex_base_ckpt.pt\n",
            "Resolving files.ipd.uw.edu (files.ipd.uw.edu)... 128.95.160.135, 128.95.160.134, 2607:4000:406::160:135, ...\n",
            "Connecting to files.ipd.uw.edu (files.ipd.uw.edu)|128.95.160.135|:80... connected.\n",
            "HTTP request sent, awaiting response... 200 OK\n",
            "Length: 483619179 (461M) [application/octet-stream]\n",
            "Saving to: ‘Complex_base_ckpt.pt’\n",
            "\n",
            "Complex_base_ckpt.p 100%[===================>] 461.21M  9.24MB/s    in 64s     \n",
            "\n",
            "2025-04-09 00:03:52 (7.21 MB/s) - ‘Complex_base_ckpt.pt’ saved [483619179/483619179]\n",
            "\n",
            "--2025-04-09 00:03:52--  http://files.ipd.uw.edu/pub/RFdiffusion/60f09a193fb5e5ccdc4980417708dbab/Complex_Fold_base_ckpt.pt\n",
            "Resolving files.ipd.uw.edu (files.ipd.uw.edu)... 128.95.160.134, 128.95.160.135, 2607:4000:406::160:134, ...\n",
            "Connecting to files.ipd.uw.edu (files.ipd.uw.edu)|128.95.160.134|:80... connected.\n",
            "HTTP request sent, awaiting response... 200 OK\n",
            "Length: 483626923 (461M) [application/octet-stream]\n",
            "Saving to: ‘Complex_Fold_base_ckpt.pt’\n",
            "\n",
            "Complex_Fold_base_c 100%[===================>] 461.22M  9.51MB/s    in 52s     \n",
            "\n",
            "2025-04-09 00:04:44 (8.88 MB/s) - ‘Complex_Fold_base_ckpt.pt’ saved [483626923/483626923]\n",
            "\n",
            "--2025-04-09 00:04:44--  http://files.ipd.uw.edu/pub/RFdiffusion/74f51cfb8b440f50d70878e05361d8f0/InpaintSeq_ckpt.pt\n",
            "Resolving files.ipd.uw.edu (files.ipd.uw.edu)... 128.95.160.135, 128.95.160.134, 2607:4000:406::160:134, ...\n",
            "Connecting to files.ipd.uw.edu (files.ipd.uw.edu)|128.95.160.135|:80... connected.\n",
            "HTTP request sent, awaiting response... 200 OK\n",
            "Length: 483619243 (461M) [application/octet-stream]\n",
            "Saving to: ‘InpaintSeq_ckpt.pt’\n",
            "\n",
            "InpaintSeq_ckpt.pt  100%[===================>] 461.21M  5.47MB/s    in 60s     \n",
            "\n",
            "2025-04-09 00:05:44 (7.69 MB/s) - ‘InpaintSeq_ckpt.pt’ saved [483619243/483619243]\n",
            "\n",
            "--2025-04-09 00:05:44--  http://files.ipd.uw.edu/pub/RFdiffusion/76d00716416567174cdb7ca96e208296/InpaintSeq_Fold_ckpt.pt\n",
            "Resolving files.ipd.uw.edu (files.ipd.uw.edu)... 128.95.160.134, 128.95.160.135, 2607:4000:406::160:134, ...\n",
            "Connecting to files.ipd.uw.edu (files.ipd.uw.edu)|128.95.160.134|:80... connected.\n",
            "HTTP request sent, awaiting response... 200 OK\n",
            "Length: 483626987 (461M) [application/octet-stream]\n",
            "Saving to: ‘InpaintSeq_Fold_ckpt.pt’\n",
            "\n",
            "InpaintSeq_Fold_ckp 100%[===================>] 461.22M  10.3MB/s    in 59s     \n",
            "\n",
            "2025-04-09 00:06:44 (7.83 MB/s) - ‘InpaintSeq_Fold_ckpt.pt’ saved [483626987/483626987]\n",
            "\n",
            "--2025-04-09 00:06:44--  http://files.ipd.uw.edu/pub/RFdiffusion/5532d2e1f3a4738decd58b19d633b3c3/ActiveSite_ckpt.pt\n",
            "Resolving files.ipd.uw.edu (files.ipd.uw.edu)... 128.95.160.134, 128.95.160.135, 2607:4000:406::160:134, ...\n",
            "Connecting to files.ipd.uw.edu (files.ipd.uw.edu)|128.95.160.134|:80... connected.\n",
            "HTTP request sent, awaiting response... 200 OK\n",
            "Length: 483616107 (461M) [application/octet-stream]\n",
            "Saving to: ‘ActiveSite_ckpt.pt’\n",
            "\n",
            "ActiveSite_ckpt.pt  100%[===================>] 461.21M  8.47MB/s    in 49s     \n",
            "\n",
            "2025-04-09 00:07:33 (9.41 MB/s) - ‘ActiveSite_ckpt.pt’ saved [483616107/483616107]\n",
            "\n",
            "--2025-04-09 00:07:33--  http://files.ipd.uw.edu/pub/RFdiffusion/12fc204edeae5b57713c5ad7dcb97d39/Base_epoch8_ckpt.pt\n",
            "Resolving files.ipd.uw.edu (files.ipd.uw.edu)... 128.95.160.134, 128.95.160.135, 2607:4000:406::160:135, ...\n",
            "Connecting to files.ipd.uw.edu (files.ipd.uw.edu)|128.95.160.134|:80... connected.\n",
            "HTTP request sent, awaiting response... 200 OK\n",
            "Length: 483616427 (461M) [application/octet-stream]\n",
            "Saving to: ‘Base_epoch8_ckpt.pt’\n",
            "\n",
            "Base_epoch8_ckpt.pt 100%[===================>] 461.21M  9.28MB/s    in 56s     \n",
            "\n",
            "2025-04-09 00:08:29 (8.20 MB/s) - ‘Base_epoch8_ckpt.pt’ saved [483616427/483616427]\n",
            "\n",
            "--2025-04-09 00:08:30--  http://files.ipd.uw.edu/pub/RFdiffusion/f572d396fae9206628714fb2ce00f72e/Complex_beta_ckpt.pt\n",
            "Resolving files.ipd.uw.edu (files.ipd.uw.edu)... 128.95.160.135, 128.95.160.134, 2607:4000:406::160:134, ...\n",
            "Connecting to files.ipd.uw.edu (files.ipd.uw.edu)|128.95.160.135|:80... connected.\n",
            "HTTP request sent, awaiting response... 200 OK\n",
            "Length: 483380617 (461M) [application/octet-stream]\n",
            "Saving to: ‘Complex_beta_ckpt.pt’\n",
            "\n",
            "Complex_beta_ckpt.p 100%[===================>] 460.99M  17.6MB/s    in 49s     \n",
            "\n",
            "2025-04-09 00:09:19 (9.43 MB/s) - ‘Complex_beta_ckpt.pt’ saved [483380617/483380617]\n",
            "\n"
          ]
        }
      ]
    },
    {
      "cell_type": "code",
      "source": [
        "!python /content/RFdiffusion/scripts/run_inference.py \\\n",
        "  inference.output_prefix=colab_test \\\n",
        "  inference.model_directory_path=/content/RFdiffusion/weights \\\n",
        "  inference.num_designs=1 \\\n",
        "  +inference.diffusion_steps=100\n"
      ],
      "metadata": {
        "colab": {
          "base_uri": "https://localhost:8080/"
        },
        "id": "hKMjL2mW4W_E",
        "outputId": "9ef80869-a2f6-4a74-9e00-3f48b59e8e4f"
      },
      "execution_count": 7,
      "outputs": [
        {
          "output_type": "stream",
          "name": "stdout",
          "text": [
            "[2025-04-09 00:41:07,854][__main__][INFO] - ////////////////////////////////////////////////\n",
            "[2025-04-09 00:41:07,854][__main__][INFO] - ///// NO GPU DETECTED! Falling back to CPU /////\n",
            "[2025-04-09 00:41:07,855][__main__][INFO] - ////////////////////////////////////////////////\n",
            "Reading models from /content/RFdiffusion/weights\n",
            "[2025-04-09 00:41:07,855][rfdiffusion.inference.model_runners][INFO] - Reading checkpoint from /content/RFdiffusion/weights/Base_ckpt.pt\n",
            "This is inf_conf.ckpt_path\n",
            "/content/RFdiffusion/weights/Base_ckpt.pt\n",
            "Assembling -model, -diffuser and -preprocess configs from checkpoint\n",
            "USING MODEL CONFIG: self._conf[model][n_extra_block] = 4\n",
            "USING MODEL CONFIG: self._conf[model][n_main_block] = 32\n",
            "USING MODEL CONFIG: self._conf[model][n_ref_block] = 4\n",
            "USING MODEL CONFIG: self._conf[model][d_msa] = 256\n",
            "USING MODEL CONFIG: self._conf[model][d_msa_full] = 64\n",
            "USING MODEL CONFIG: self._conf[model][d_pair] = 128\n",
            "USING MODEL CONFIG: self._conf[model][d_templ] = 64\n",
            "USING MODEL CONFIG: self._conf[model][n_head_msa] = 8\n",
            "USING MODEL CONFIG: self._conf[model][n_head_pair] = 4\n",
            "USING MODEL CONFIG: self._conf[model][n_head_templ] = 4\n",
            "USING MODEL CONFIG: self._conf[model][d_hidden] = 32\n",
            "USING MODEL CONFIG: self._conf[model][d_hidden_templ] = 32\n",
            "USING MODEL CONFIG: self._conf[model][p_drop] = 0.15\n",
            "USING MODEL CONFIG: self._conf[model][SE3_param_full] = {'num_layers': 1, 'num_channels': 32, 'num_degrees': 2, 'n_heads': 4, 'div': 4, 'l0_in_features': 8, 'l0_out_features': 8, 'l1_in_features': 3, 'l1_out_features': 2, 'num_edge_features': 32}\n",
            "USING MODEL CONFIG: self._conf[model][SE3_param_topk] = {'num_layers': 1, 'num_channels': 32, 'num_degrees': 2, 'n_heads': 4, 'div': 4, 'l0_in_features': 64, 'l0_out_features': 64, 'l1_in_features': 3, 'l1_out_features': 2, 'num_edge_features': 64}\n",
            "USING MODEL CONFIG: self._conf[model][freeze_track_motif] = False\n",
            "USING MODEL CONFIG: self._conf[model][use_motif_timestep] = True\n",
            "USING MODEL CONFIG: self._conf[diffuser][T] = 50\n",
            "USING MODEL CONFIG: self._conf[diffuser][b_0] = 0.01\n",
            "USING MODEL CONFIG: self._conf[diffuser][b_T] = 0.07\n",
            "USING MODEL CONFIG: self._conf[diffuser][schedule_type] = linear\n",
            "USING MODEL CONFIG: self._conf[diffuser][so3_type] = igso3\n",
            "USING MODEL CONFIG: self._conf[diffuser][crd_scale] = 0.25\n",
            "USING MODEL CONFIG: self._conf[diffuser][so3_schedule_type] = linear\n",
            "USING MODEL CONFIG: self._conf[diffuser][min_b] = 1.5\n",
            "USING MODEL CONFIG: self._conf[diffuser][max_b] = 2.5\n",
            "USING MODEL CONFIG: self._conf[diffuser][min_sigma] = 0.02\n",
            "USING MODEL CONFIG: self._conf[diffuser][max_sigma] = 1.5\n",
            "USING MODEL CONFIG: self._conf[preprocess][sidechain_input] = False\n",
            "USING MODEL CONFIG: self._conf[preprocess][motif_sidechain_input] = True\n",
            "USING MODEL CONFIG: self._conf[preprocess][d_t1d] = 22\n",
            "USING MODEL CONFIG: self._conf[preprocess][d_t2d] = 44\n",
            "USING MODEL CONFIG: self._conf[preprocess][prob_self_cond] = 0.5\n",
            "USING MODEL CONFIG: self._conf[preprocess][str_self_cond] = True\n",
            "USING MODEL CONFIG: self._conf[preprocess][predict_previous] = False\n",
            "[2025-04-09 00:41:11,036][rfdiffusion.inference.model_runners][INFO] - Loading checkpoint.\n",
            "[2025-04-09 00:41:11,422][rfdiffusion.diffusion][INFO] - Using cached IGSO3.\n",
            "Successful diffuser __init__\n",
            "Error executing job with overrides: ['inference.output_prefix=colab_test', 'inference.model_directory_path=/content/RFdiffusion/weights', 'inference.num_designs=1', '+inference.diffusion_steps=100']\n",
            "Traceback (most recent call last):\n",
            "  File \"/content/RFdiffusion/scripts/run_inference.py\", line 54, in main\n",
            "    sampler = iu.sampler_selector(conf)\n",
            "              ^^^^^^^^^^^^^^^^^^^^^^^^^\n",
            "  File \"/usr/local/lib/python3.11/dist-packages/rfdiffusion-1.1.0-py3.11.egg/rfdiffusion/inference/utils.py\", line 511, in sampler_selector\n",
            "    sampler = model_runners.SelfConditioning(conf)\n",
            "              ^^^^^^^^^^^^^^^^^^^^^^^^^^^^^^^^^^^^\n",
            "  File \"/usr/local/lib/python3.11/dist-packages/rfdiffusion-1.1.0-py3.11.egg/rfdiffusion/inference/model_runners.py\", line 37, in __init__\n",
            "    self.initialize(conf)\n",
            "  File \"/usr/local/lib/python3.11/dist-packages/rfdiffusion-1.1.0-py3.11.egg/rfdiffusion/inference/model_runners.py\", line 152, in initialize\n",
            "    self.target_feats = iu.process_target(self.inf_conf.input_pdb, parse_hetatom=True, center=False)\n",
            "                        ^^^^^^^^^^^^^^^^^^^^^^^^^^^^^^^^^^^^^^^^^^^^^^^^^^^^^^^^^^^^^^^^^^^^^^^^^^^^\n",
            "  File \"/usr/local/lib/python3.11/dist-packages/rfdiffusion-1.1.0-py3.11.egg/rfdiffusion/inference/utils.py\", line 615, in process_target\n",
            "    target_struct = parse_pdb(pdb_path, parse_hetatom=parse_hetatom)\n",
            "                    ^^^^^^^^^^^^^^^^^^^^^^^^^^^^^^^^^^^^^^^^^^^^^^^^\n",
            "  File \"/usr/local/lib/python3.11/dist-packages/rfdiffusion-1.1.0-py3.11.egg/rfdiffusion/inference/utils.py\", line 521, in parse_pdb\n",
            "    with open(filename,\"r\") as f:\n",
            "         ^^^^^^^^^^^^^^^^^^\n",
            "FileNotFoundError: [Errno 2] No such file or directory: '/usr/local/lib/python3.11/dist-packages/rfdiffusion-1.1.0-py3.11.egg/rfdiffusion/inference/../../examples/input_pdbs/1qys.pdb'\n",
            "\n",
            "Set the environment variable HYDRA_FULL_ERROR=1 for a complete stack trace.\n"
          ]
        }
      ]
    }
  ]
}